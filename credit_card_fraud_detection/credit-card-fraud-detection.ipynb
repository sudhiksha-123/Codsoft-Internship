{
 "cells": [
  {
   "cell_type": "markdown",
   "id": "9d9aefea",
   "metadata": {
    "papermill": {
     "duration": 0.012235,
     "end_time": "2023-09-09T10:53:55.478738",
     "exception": false,
     "start_time": "2023-09-09T10:53:55.466503",
     "status": "completed"
    },
    "tags": []
   },
   "source": [
    "# Importing Libraries"
   ]
  },
  {
   "cell_type": "code",
   "execution_count": 2,
   "id": "dada5570",
   "metadata": {
    "execution": {
     "iopub.execute_input": "2023-09-09T10:53:55.505212Z",
     "iopub.status.busy": "2023-09-09T10:53:55.504188Z",
     "iopub.status.idle": "2023-09-09T10:53:57.482326Z",
     "shell.execute_reply": "2023-09-09T10:53:57.481212Z"
    },
    "papermill": {
     "duration": 1.994563,
     "end_time": "2023-09-09T10:53:57.485229",
     "exception": false,
     "start_time": "2023-09-09T10:53:55.490666",
     "status": "completed"
    },
    "tags": []
   },
   "outputs": [],
   "source": [
    "import numpy as np\n",
    "import pandas as pd\n",
    "import seaborn as sns\n",
    "import matplotlib.pyplot as plt\n",
    "from sklearn import metrics\n",
    "import warnings\n",
    "warnings.filterwarnings('ignore')"
   ]
  },
  {
   "cell_type": "markdown",
   "id": "7a56ff97",
   "metadata": {
    "papermill": {
     "duration": 0.011808,
     "end_time": "2023-09-09T10:53:57.509213",
     "exception": false,
     "start_time": "2023-09-09T10:53:57.497405",
     "status": "completed"
    },
    "tags": []
   },
   "source": [
    "# Importing Data"
   ]
  },
  {
   "cell_type": "code",
   "execution_count": 3,
   "id": "9e083409",
   "metadata": {
    "execution": {
     "iopub.execute_input": "2023-09-09T10:53:57.535394Z",
     "iopub.status.busy": "2023-09-09T10:53:57.534599Z",
     "iopub.status.idle": "2023-09-09T10:54:16.095747Z",
     "shell.execute_reply": "2023-09-09T10:54:16.094674Z"
    },
    "papermill": {
     "duration": 18.577125,
     "end_time": "2023-09-09T10:54:16.098511",
     "exception": false,
     "start_time": "2023-09-09T10:53:57.521386",
     "status": "completed"
    },
    "tags": []
   },
   "outputs": [],
   "source": [
    "train_data = pd.read_csv('fraudTrain.csv')\n",
    "test_data = pd.read_csv('fraudTest.csv')"
   ]
  },
  {
   "cell_type": "markdown",
   "id": "0bd50ffb",
   "metadata": {
    "papermill": {
     "duration": 0.011621,
     "end_time": "2023-09-09T10:54:16.122291",
     "exception": false,
     "start_time": "2023-09-09T10:54:16.110670",
     "status": "completed"
    },
    "tags": []
   },
   "source": [
    "# Exploratory Data Analysis"
   ]
  },
  {
   "cell_type": "code",
   "execution_count": 4,
   "id": "7f6a6656",
   "metadata": {
    "execution": {
     "iopub.execute_input": "2023-09-09T10:54:16.147877Z",
     "iopub.status.busy": "2023-09-09T10:54:16.147519Z",
     "iopub.status.idle": "2023-09-09T10:54:16.188937Z",
     "shell.execute_reply": "2023-09-09T10:54:16.187968Z"
    },
    "papermill": {
     "duration": 0.05707,
     "end_time": "2023-09-09T10:54:16.191247",
     "exception": false,
     "start_time": "2023-09-09T10:54:16.134177",
     "status": "completed"
    },
    "tags": []
   },
   "outputs": [
    {
     "data": {
      "text/html": [
       "<div>\n",
       "<style scoped>\n",
       "    .dataframe tbody tr th:only-of-type {\n",
       "        vertical-align: middle;\n",
       "    }\n",
       "\n",
       "    .dataframe tbody tr th {\n",
       "        vertical-align: top;\n",
       "    }\n",
       "\n",
       "    .dataframe thead th {\n",
       "        text-align: right;\n",
       "    }\n",
       "</style>\n",
       "<table border=\"1\" class=\"dataframe\">\n",
       "  <thead>\n",
       "    <tr style=\"text-align: right;\">\n",
       "      <th></th>\n",
       "      <th>Unnamed: 0</th>\n",
       "      <th>trans_date_trans_time</th>\n",
       "      <th>cc_num</th>\n",
       "      <th>merchant</th>\n",
       "      <th>category</th>\n",
       "      <th>amt</th>\n",
       "      <th>first</th>\n",
       "      <th>last</th>\n",
       "      <th>gender</th>\n",
       "      <th>street</th>\n",
       "      <th>...</th>\n",
       "      <th>lat</th>\n",
       "      <th>long</th>\n",
       "      <th>city_pop</th>\n",
       "      <th>job</th>\n",
       "      <th>dob</th>\n",
       "      <th>trans_num</th>\n",
       "      <th>unix_time</th>\n",
       "      <th>merch_lat</th>\n",
       "      <th>merch_long</th>\n",
       "      <th>is_fraud</th>\n",
       "    </tr>\n",
       "  </thead>\n",
       "  <tbody>\n",
       "    <tr>\n",
       "      <th>0</th>\n",
       "      <td>0</td>\n",
       "      <td>2019-01-01 00:00:18</td>\n",
       "      <td>2703186189652095</td>\n",
       "      <td>fraud_Rippin, Kub and Mann</td>\n",
       "      <td>misc_net</td>\n",
       "      <td>4.97</td>\n",
       "      <td>Jennifer</td>\n",
       "      <td>Banks</td>\n",
       "      <td>F</td>\n",
       "      <td>561 Perry Cove</td>\n",
       "      <td>...</td>\n",
       "      <td>36.0788</td>\n",
       "      <td>-81.1781</td>\n",
       "      <td>3495</td>\n",
       "      <td>Psychologist, counselling</td>\n",
       "      <td>1988-03-09</td>\n",
       "      <td>0b242abb623afc578575680df30655b9</td>\n",
       "      <td>1325376018</td>\n",
       "      <td>36.011293</td>\n",
       "      <td>-82.048315</td>\n",
       "      <td>0</td>\n",
       "    </tr>\n",
       "    <tr>\n",
       "      <th>1</th>\n",
       "      <td>1</td>\n",
       "      <td>2019-01-01 00:00:44</td>\n",
       "      <td>630423337322</td>\n",
       "      <td>fraud_Heller, Gutmann and Zieme</td>\n",
       "      <td>grocery_pos</td>\n",
       "      <td>107.23</td>\n",
       "      <td>Stephanie</td>\n",
       "      <td>Gill</td>\n",
       "      <td>F</td>\n",
       "      <td>43039 Riley Greens Suite 393</td>\n",
       "      <td>...</td>\n",
       "      <td>48.8878</td>\n",
       "      <td>-118.2105</td>\n",
       "      <td>149</td>\n",
       "      <td>Special educational needs teacher</td>\n",
       "      <td>1978-06-21</td>\n",
       "      <td>1f76529f8574734946361c461b024d99</td>\n",
       "      <td>1325376044</td>\n",
       "      <td>49.159047</td>\n",
       "      <td>-118.186462</td>\n",
       "      <td>0</td>\n",
       "    </tr>\n",
       "    <tr>\n",
       "      <th>2</th>\n",
       "      <td>2</td>\n",
       "      <td>2019-01-01 00:00:51</td>\n",
       "      <td>38859492057661</td>\n",
       "      <td>fraud_Lind-Buckridge</td>\n",
       "      <td>entertainment</td>\n",
       "      <td>220.11</td>\n",
       "      <td>Edward</td>\n",
       "      <td>Sanchez</td>\n",
       "      <td>M</td>\n",
       "      <td>594 White Dale Suite 530</td>\n",
       "      <td>...</td>\n",
       "      <td>42.1808</td>\n",
       "      <td>-112.2620</td>\n",
       "      <td>4154</td>\n",
       "      <td>Nature conservation officer</td>\n",
       "      <td>1962-01-19</td>\n",
       "      <td>a1a22d70485983eac12b5b88dad1cf95</td>\n",
       "      <td>1325376051</td>\n",
       "      <td>43.150704</td>\n",
       "      <td>-112.154481</td>\n",
       "      <td>0</td>\n",
       "    </tr>\n",
       "    <tr>\n",
       "      <th>3</th>\n",
       "      <td>3</td>\n",
       "      <td>2019-01-01 00:01:16</td>\n",
       "      <td>3534093764340240</td>\n",
       "      <td>fraud_Kutch, Hermiston and Farrell</td>\n",
       "      <td>gas_transport</td>\n",
       "      <td>45.00</td>\n",
       "      <td>Jeremy</td>\n",
       "      <td>White</td>\n",
       "      <td>M</td>\n",
       "      <td>9443 Cynthia Court Apt. 038</td>\n",
       "      <td>...</td>\n",
       "      <td>46.2306</td>\n",
       "      <td>-112.1138</td>\n",
       "      <td>1939</td>\n",
       "      <td>Patent attorney</td>\n",
       "      <td>1967-01-12</td>\n",
       "      <td>6b849c168bdad6f867558c3793159a81</td>\n",
       "      <td>1325376076</td>\n",
       "      <td>47.034331</td>\n",
       "      <td>-112.561071</td>\n",
       "      <td>0</td>\n",
       "    </tr>\n",
       "    <tr>\n",
       "      <th>4</th>\n",
       "      <td>4</td>\n",
       "      <td>2019-01-01 00:03:06</td>\n",
       "      <td>375534208663984</td>\n",
       "      <td>fraud_Keeling-Crist</td>\n",
       "      <td>misc_pos</td>\n",
       "      <td>41.96</td>\n",
       "      <td>Tyler</td>\n",
       "      <td>Garcia</td>\n",
       "      <td>M</td>\n",
       "      <td>408 Bradley Rest</td>\n",
       "      <td>...</td>\n",
       "      <td>38.4207</td>\n",
       "      <td>-79.4629</td>\n",
       "      <td>99</td>\n",
       "      <td>Dance movement psychotherapist</td>\n",
       "      <td>1986-03-28</td>\n",
       "      <td>a41d7549acf90789359a9aa5346dcb46</td>\n",
       "      <td>1325376186</td>\n",
       "      <td>38.674999</td>\n",
       "      <td>-78.632459</td>\n",
       "      <td>0</td>\n",
       "    </tr>\n",
       "  </tbody>\n",
       "</table>\n",
       "<p>5 rows × 23 columns</p>\n",
       "</div>"
      ],
      "text/plain": [
       "   Unnamed: 0 trans_date_trans_time            cc_num  \\\n",
       "0           0   2019-01-01 00:00:18  2703186189652095   \n",
       "1           1   2019-01-01 00:00:44      630423337322   \n",
       "2           2   2019-01-01 00:00:51    38859492057661   \n",
       "3           3   2019-01-01 00:01:16  3534093764340240   \n",
       "4           4   2019-01-01 00:03:06   375534208663984   \n",
       "\n",
       "                             merchant       category     amt      first  \\\n",
       "0          fraud_Rippin, Kub and Mann       misc_net    4.97   Jennifer   \n",
       "1     fraud_Heller, Gutmann and Zieme    grocery_pos  107.23  Stephanie   \n",
       "2                fraud_Lind-Buckridge  entertainment  220.11     Edward   \n",
       "3  fraud_Kutch, Hermiston and Farrell  gas_transport   45.00     Jeremy   \n",
       "4                 fraud_Keeling-Crist       misc_pos   41.96      Tyler   \n",
       "\n",
       "      last gender                        street  ...      lat      long  \\\n",
       "0    Banks      F                561 Perry Cove  ...  36.0788  -81.1781   \n",
       "1     Gill      F  43039 Riley Greens Suite 393  ...  48.8878 -118.2105   \n",
       "2  Sanchez      M      594 White Dale Suite 530  ...  42.1808 -112.2620   \n",
       "3    White      M   9443 Cynthia Court Apt. 038  ...  46.2306 -112.1138   \n",
       "4   Garcia      M              408 Bradley Rest  ...  38.4207  -79.4629   \n",
       "\n",
       "   city_pop                                job         dob  \\\n",
       "0      3495          Psychologist, counselling  1988-03-09   \n",
       "1       149  Special educational needs teacher  1978-06-21   \n",
       "2      4154        Nature conservation officer  1962-01-19   \n",
       "3      1939                    Patent attorney  1967-01-12   \n",
       "4        99     Dance movement psychotherapist  1986-03-28   \n",
       "\n",
       "                          trans_num   unix_time  merch_lat  merch_long  \\\n",
       "0  0b242abb623afc578575680df30655b9  1325376018  36.011293  -82.048315   \n",
       "1  1f76529f8574734946361c461b024d99  1325376044  49.159047 -118.186462   \n",
       "2  a1a22d70485983eac12b5b88dad1cf95  1325376051  43.150704 -112.154481   \n",
       "3  6b849c168bdad6f867558c3793159a81  1325376076  47.034331 -112.561071   \n",
       "4  a41d7549acf90789359a9aa5346dcb46  1325376186  38.674999  -78.632459   \n",
       "\n",
       "   is_fraud  \n",
       "0         0  \n",
       "1         0  \n",
       "2         0  \n",
       "3         0  \n",
       "4         0  \n",
       "\n",
       "[5 rows x 23 columns]"
      ]
     },
     "execution_count": 4,
     "metadata": {},
     "output_type": "execute_result"
    }
   ],
   "source": [
    "train_data.head()"
   ]
  },
  {
   "cell_type": "code",
   "execution_count": 9,
   "id": "05127d68",
   "metadata": {
    "execution": {
     "iopub.execute_input": "2023-09-09T10:54:16.216612Z",
     "iopub.status.busy": "2023-09-09T10:54:16.216183Z",
     "iopub.status.idle": "2023-09-09T10:54:17.387487Z",
     "shell.execute_reply": "2023-09-09T10:54:17.386162Z"
    },
    "papermill": {
     "duration": 1.186846,
     "end_time": "2023-09-09T10:54:17.390032",
     "exception": false,
     "start_time": "2023-09-09T10:54:16.203186",
     "status": "completed"
    },
    "tags": []
   },
   "outputs": [
    {
     "data": {
      "image/png": "[encoded data removed]",
      "text/plain": [
       "<Figure size 800x600 with 1 Axes>"
      ]
     },
     "metadata": {},
     "output_type": "display_data"
    }
   ],
   "source": [
    "plt.figure(figsize=(8, 6))\n",
    "sns.countplot(x='is_fraud', data=pd.concat([train_data, test_data], ignore_index=True))\n",
    "plt.title('Data Distribution')\n",
    "plt.xlabel(' (0:Not Fraud  | 1:Fraud) ')\n",
    "plt.ylabel('Count')\n",
    "plt.show()"
   ]
  },
  {
   "cell_type": "code",
   "execution_count": 10,
   "id": "d3378fa3",
   "metadata": {
    "execution": {
     "iopub.execute_input": "2023-09-09T10:54:17.418047Z",
     "iopub.status.busy": "2023-09-09T10:54:17.416919Z",
     "iopub.status.idle": "2023-09-09T10:54:18.980177Z",
     "shell.execute_reply": "2023-09-09T10:54:18.979067Z"
    },
    "papermill": {
     "duration": 1.580116,
     "end_time": "2023-09-09T10:54:18.982720",
     "exception": false,
     "start_time": "2023-09-09T10:54:17.402604",
     "status": "completed"
    },
    "tags": []
   },
   "outputs": [
    {
     "name": "stdout",
     "output_type": "stream",
     "text": [
      "<class 'pandas.core.frame.DataFrame'>\n",
      "RangeIndex: 1296675 entries, 0 to 1296674\n",
      "Data columns (total 23 columns):\n",
      " #   Column                 Non-Null Count    Dtype  \n",
      "---  ------                 --------------    -----  \n",
      " 0   Unnamed: 0             1296675 non-null  int64  \n",
      " 1   trans_date_trans_time  1296675 non-null  object \n",
      " 2   cc_num                 1296675 non-null  int64  \n",
      " 3   merchant               1296675 non-null  object \n",
      " 4   category               1296675 non-null  object \n",
      " 5   amt                    1296675 non-null  float64\n",
      " 6   first                  1296675 non-null  object \n",
      " 7   last                   1296675 non-null  object \n",
      " 8   gender                 1296675 non-null  object \n",
      " 9   street                 1296675 non-null  object \n",
      " 10  city                   1296675 non-null  object \n",
      " 11  state                  1296675 non-null  object \n",
      " 12  zip                    1296675 non-null  int64  \n",
      " 13  lat                    1296675 non-null  float64\n",
      " 14  long                   1296675 non-null  float64\n",
      " 15  city_pop               1296675 non-null  int64  \n",
      " 16  job                    1296675 non-null  object \n",
      " 17  dob                    1296675 non-null  object \n",
      " 18  trans_num              1296675 non-null  object \n",
      " 19  unix_time              1296675 non-null  int64  \n",
      " 20  merch_lat              1296675 non-null  float64\n",
      " 21  merch_long             1296675 non-null  float64\n",
      " 22  is_fraud               1296675 non-null  int64  \n",
      "dtypes: float64(5), int64(6), object(12)\n",
      "memory usage: 227.5+ MB\n"
     ]
    }
   ],
   "source": [
    "train_data.info()"
   ]
  },
  {
   "cell_type": "code",
   "execution_count": 11,
   "id": "2883cf77",
   "metadata": {
    "execution": {
     "iopub.execute_input": "2023-09-09T10:54:19.009407Z",
     "iopub.status.busy": "2023-09-09T10:54:19.009010Z",
     "iopub.status.idle": "2023-09-09T10:54:19.686733Z",
     "shell.execute_reply": "2023-09-09T10:54:19.685142Z"
    },
    "papermill": {
     "duration": 0.694027,
     "end_time": "2023-09-09T10:54:19.689090",
     "exception": false,
     "start_time": "2023-09-09T10:54:18.995063",
     "status": "completed"
    },
    "tags": []
   },
   "outputs": [
    {
     "name": "stdout",
     "output_type": "stream",
     "text": [
      "<class 'pandas.core.frame.DataFrame'>\n",
      "RangeIndex: 555719 entries, 0 to 555718\n",
      "Data columns (total 23 columns):\n",
      " #   Column                 Non-Null Count   Dtype  \n",
      "---  ------                 --------------   -----  \n",
      " 0   Unnamed: 0             555719 non-null  int64  \n",
      " 1   trans_date_trans_time  555719 non-null  object \n",
      " 2   cc_num                 555719 non-null  int64  \n",
      " 3   merchant               555719 non-null  object \n",
      " 4   category               555719 non-null  object \n",
      " 5   amt                    555719 non-null  float64\n",
      " 6   first                  555719 non-null  object \n",
      " 7   last                   555719 non-null  object \n",
      " 8   gender                 555719 non-null  object \n",
      " 9   street                 555719 non-null  object \n",
      " 10  city                   555719 non-null  object \n",
      " 11  state                  555719 non-null  object \n",
      " 12  zip                    555719 non-null  int64  \n",
      " 13  lat                    555719 non-null  float64\n",
      " 14  long                   555719 non-null  float64\n",
      " 15  city_pop               555719 non-null  int64  \n",
      " 16  job                    555719 non-null  object \n",
      " 17  dob                    555719 non-null  object \n",
      " 18  trans_num              555719 non-null  object \n",
      " 19  unix_time              555719 non-null  int64  \n",
      " 20  merch_lat              555719 non-null  float64\n",
      " 21  merch_long             555719 non-null  float64\n",
      " 22  is_fraud               555719 non-null  int64  \n",
      "dtypes: float64(5), int64(6), object(12)\n",
      "memory usage: 97.5+ MB\n"
     ]
    }
   ],
   "source": [
    "test_data.info()"
   ]
  },
  {
   "cell_type": "markdown",
   "id": "c758f8da",
   "metadata": {
    "papermill": {
     "duration": 0.012659,
     "end_time": "2023-09-09T10:54:19.714936",
     "exception": false,
     "start_time": "2023-09-09T10:54:19.702277",
     "status": "completed"
    },
    "tags": []
   },
   "source": [
    "# Cleaning Data"
   ]
  },
  {
   "cell_type": "code",
   "execution_count": 12,
   "id": "7fd40202",
   "metadata": {
    "execution": {
     "iopub.execute_input": "2023-09-09T10:54:19.743427Z",
     "iopub.status.busy": "2023-09-09T10:54:19.743022Z",
     "iopub.status.idle": "2023-09-09T10:54:21.977618Z",
     "shell.execute_reply": "2023-09-09T10:54:21.976504Z"
    },
    "papermill": {
     "duration": 2.251389,
     "end_time": "2023-09-09T10:54:21.979946",
     "exception": false,
     "start_time": "2023-09-09T10:54:19.728557",
     "status": "completed"
    },
    "tags": []
   },
   "outputs": [
    {
     "data": {
      "text/plain": [
       "(Unnamed: 0               0\n",
       " trans_date_trans_time    0\n",
       " cc_num                   0\n",
       " merchant                 0\n",
       " category                 0\n",
       " amt                      0\n",
       " first                    0\n",
       " last                     0\n",
       " gender                   0\n",
       " street                   0\n",
       " city                     0\n",
       " state                    0\n",
       " zip                      0\n",
       " lat                      0\n",
       " long                     0\n",
       " city_pop                 0\n",
       " job                      0\n",
       " dob                      0\n",
       " trans_num                0\n",
       " unix_time                0\n",
       " merch_lat                0\n",
       " merch_long               0\n",
       " is_fraud                 0\n",
       " dtype: int64,\n",
       " Unnamed: 0               0\n",
       " trans_date_trans_time    0\n",
       " cc_num                   0\n",
       " merchant                 0\n",
       " category                 0\n",
       " amt                      0\n",
       " first                    0\n",
       " last                     0\n",
       " gender                   0\n",
       " street                   0\n",
       " city                     0\n",
       " state                    0\n",
       " zip                      0\n",
       " lat                      0\n",
       " long                     0\n",
       " city_pop                 0\n",
       " job                      0\n",
       " dob                      0\n",
       " trans_num                0\n",
       " unix_time                0\n",
       " merch_lat                0\n",
       " merch_long               0\n",
       " is_fraud                 0\n",
       " dtype: int64)"
      ]
     },
     "execution_count": 12,
     "metadata": {},
     "output_type": "execute_result"
    }
   ],
   "source": [
    "train_data.isnull().sum(),test_data.isnull().sum()"
   ]
  },
  {
   "cell_type": "code",
   "execution_count": 13,
   "id": "a2af01f4",
   "metadata": {
    "execution": {
     "iopub.execute_input": "2023-09-09T10:54:22.008064Z",
     "iopub.status.busy": "2023-09-09T10:54:22.007675Z",
     "iopub.status.idle": "2023-09-09T10:54:22.178539Z",
     "shell.execute_reply": "2023-09-09T10:54:22.177615Z"
    },
    "papermill": {
     "duration": 0.188119,
     "end_time": "2023-09-09T10:54:22.181015",
     "exception": false,
     "start_time": "2023-09-09T10:54:21.992896",
     "status": "completed"
    },
    "tags": []
   },
   "outputs": [],
   "source": [
    "cols_to_drop = ['Unnamed: 0','cc_num','merchant','first','last','trans_num','unix_time','street','category']\n",
    "train_data.drop(columns=cols_to_drop,inplace = True)\n",
    "test_data.drop(columns=cols_to_drop,inplace = True)"
   ]
  },
  {
   "cell_type": "code",
   "execution_count": 14,
   "id": "39754277",
   "metadata": {
    "execution": {
     "iopub.execute_input": "2023-09-09T10:54:22.209070Z",
     "iopub.status.busy": "2023-09-09T10:54:22.208274Z",
     "iopub.status.idle": "2023-09-09T10:54:22.213786Z",
     "shell.execute_reply": "2023-09-09T10:54:22.212655Z"
    },
    "papermill": {
     "duration": 0.021845,
     "end_time": "2023-09-09T10:54:22.215885",
     "exception": false,
     "start_time": "2023-09-09T10:54:22.194040",
     "status": "completed"
    },
    "tags": []
   },
   "outputs": [
    {
     "name": "stdout",
     "output_type": "stream",
     "text": [
      "(1296675, 14)\n",
      "(555719, 14)\n"
     ]
    }
   ],
   "source": [
    "print(train_data.shape)\n",
    "print(test_data.shape)"
   ]
  },
  {
   "cell_type": "code",
   "execution_count": 15,
   "id": "ef0767be",
   "metadata": {
    "execution": {
     "iopub.execute_input": "2023-09-09T10:54:22.245208Z",
     "iopub.status.busy": "2023-09-09T10:54:22.244221Z",
     "iopub.status.idle": "2023-09-09T10:54:22.279162Z",
     "shell.execute_reply": "2023-09-09T10:54:22.278199Z"
    },
    "papermill": {
     "duration": 0.052484,
     "end_time": "2023-09-09T10:54:22.281817",
     "exception": false,
     "start_time": "2023-09-09T10:54:22.229333",
     "status": "completed"
    },
    "tags": []
   },
   "outputs": [],
   "source": [
    "train_data['lat_dist'] = abs(round(train_data['merch_lat']-train_data['lat'],2))\n",
    "train_data['long_dist'] = abs(round(train_data['merch_long']-train_data['long'],2))\n",
    "\n",
    "test_data['lat_dist'] = abs(round(test_data['merch_lat']-test_data['lat'],2))\n",
    "test_data['long_dist'] = abs(round(test_data['merch_long']-test_data['long'],2))"
   ]
  },
  {
   "cell_type": "code",
   "execution_count": 16,
   "id": "377792b5",
   "metadata": {
    "execution": {
     "iopub.execute_input": "2023-09-09T10:54:22.310895Z",
     "iopub.status.busy": "2023-09-09T10:54:22.310134Z",
     "iopub.status.idle": "2023-09-09T10:54:22.413090Z",
     "shell.execute_reply": "2023-09-09T10:54:22.412260Z"
    },
    "papermill": {
     "duration": 0.120469,
     "end_time": "2023-09-09T10:54:22.415709",
     "exception": false,
     "start_time": "2023-09-09T10:54:22.295240",
     "status": "completed"
    },
    "tags": []
   },
   "outputs": [],
   "source": [
    "cols_to_drop = ['trans_date_trans_time','city','lat','long','job','dob','merch_lat','merch_long','state']\n",
    "train_data.drop(columns=cols_to_drop,inplace = True)\n",
    "test_data.drop(columns=cols_to_drop,inplace = True)"
   ]
  },
  {
   "cell_type": "code",
   "execution_count": 17,
   "id": "e5b2df02",
   "metadata": {
    "execution": {
     "iopub.execute_input": "2023-09-09T10:54:22.445547Z",
     "iopub.status.busy": "2023-09-09T10:54:22.444370Z",
     "iopub.status.idle": "2023-09-09T10:54:22.459063Z",
     "shell.execute_reply": "2023-09-09T10:54:22.457971Z"
    },
    "papermill": {
     "duration": 0.031857,
     "end_time": "2023-09-09T10:54:22.461444",
     "exception": false,
     "start_time": "2023-09-09T10:54:22.429587",
     "status": "completed"
    },
    "tags": []
   },
   "outputs": [
    {
     "data": {
      "text/html": [
       "<div>\n",
       "<style scoped>\n",
       "    .dataframe tbody tr th:only-of-type {\n",
       "        vertical-align: middle;\n",
       "    }\n",
       "\n",
       "    .dataframe tbody tr th {\n",
       "        vertical-align: top;\n",
       "    }\n",
       "\n",
       "    .dataframe thead th {\n",
       "        text-align: right;\n",
       "    }\n",
       "</style>\n",
       "<table border=\"1\" class=\"dataframe\">\n",
       "  <thead>\n",
       "    <tr style=\"text-align: right;\">\n",
       "      <th></th>\n",
       "      <th>amt</th>\n",
       "      <th>gender</th>\n",
       "      <th>zip</th>\n",
       "      <th>city_pop</th>\n",
       "      <th>is_fraud</th>\n",
       "      <th>lat_dist</th>\n",
       "      <th>long_dist</th>\n",
       "    </tr>\n",
       "  </thead>\n",
       "  <tbody>\n",
       "    <tr>\n",
       "      <th>0</th>\n",
       "      <td>4.97</td>\n",
       "      <td>F</td>\n",
       "      <td>28654</td>\n",
       "      <td>3495</td>\n",
       "      <td>0</td>\n",
       "      <td>0.07</td>\n",
       "      <td>0.87</td>\n",
       "    </tr>\n",
       "    <tr>\n",
       "      <th>1</th>\n",
       "      <td>107.23</td>\n",
       "      <td>F</td>\n",
       "      <td>99160</td>\n",
       "      <td>149</td>\n",
       "      <td>0</td>\n",
       "      <td>0.27</td>\n",
       "      <td>0.02</td>\n",
       "    </tr>\n",
       "    <tr>\n",
       "      <th>2</th>\n",
       "      <td>220.11</td>\n",
       "      <td>M</td>\n",
       "      <td>83252</td>\n",
       "      <td>4154</td>\n",
       "      <td>0</td>\n",
       "      <td>0.97</td>\n",
       "      <td>0.11</td>\n",
       "    </tr>\n",
       "    <tr>\n",
       "      <th>3</th>\n",
       "      <td>45.00</td>\n",
       "      <td>M</td>\n",
       "      <td>59632</td>\n",
       "      <td>1939</td>\n",
       "      <td>0</td>\n",
       "      <td>0.80</td>\n",
       "      <td>0.45</td>\n",
       "    </tr>\n",
       "    <tr>\n",
       "      <th>4</th>\n",
       "      <td>41.96</td>\n",
       "      <td>M</td>\n",
       "      <td>24433</td>\n",
       "      <td>99</td>\n",
       "      <td>0</td>\n",
       "      <td>0.25</td>\n",
       "      <td>0.83</td>\n",
       "    </tr>\n",
       "  </tbody>\n",
       "</table>\n",
       "</div>"
      ],
      "text/plain": [
       "      amt gender    zip  city_pop  is_fraud  lat_dist  long_dist\n",
       "0    4.97      F  28654      3495         0      0.07       0.87\n",
       "1  107.23      F  99160       149         0      0.27       0.02\n",
       "2  220.11      M  83252      4154         0      0.97       0.11\n",
       "3   45.00      M  59632      1939         0      0.80       0.45\n",
       "4   41.96      M  24433        99         0      0.25       0.83"
      ]
     },
     "execution_count": 17,
     "metadata": {},
     "output_type": "execute_result"
    }
   ],
   "source": [
    "train_data.head()"
   ]
  },
  {
   "cell_type": "code",
   "execution_count": 18,
   "id": "a381ea86",
   "metadata": {
    "execution": {
     "iopub.execute_input": "2023-09-09T10:54:22.491728Z",
     "iopub.status.busy": "2023-09-09T10:54:22.490855Z",
     "iopub.status.idle": "2023-09-09T10:54:23.807588Z",
     "shell.execute_reply": "2023-09-09T10:54:23.806478Z"
    },
    "papermill": {
     "duration": 1.334507,
     "end_time": "2023-09-09T10:54:23.810152",
     "exception": false,
     "start_time": "2023-09-09T10:54:22.475645",
     "status": "completed"
    },
    "tags": []
   },
   "outputs": [],
   "source": [
    "train_data.gender =[ 1 if value == \"M\" else 0 for value in train_data.gender]\n",
    "test_data.gender =[ 1 if value == \"M\" else 0 for value in test_data.gender]"
   ]
  },
  {
   "cell_type": "code",
   "execution_count": 19,
   "id": "4c3f1696",
   "metadata": {
    "execution": {
     "iopub.execute_input": "2023-09-09T10:54:23.838437Z",
     "iopub.status.busy": "2023-09-09T10:54:23.838066Z",
     "iopub.status.idle": "2023-09-09T10:54:23.852040Z",
     "shell.execute_reply": "2023-09-09T10:54:23.850984Z"
    },
    "papermill": {
     "duration": 0.031182,
     "end_time": "2023-09-09T10:54:23.854383",
     "exception": false,
     "start_time": "2023-09-09T10:54:23.823201",
     "status": "completed"
    },
    "tags": []
   },
   "outputs": [
    {
     "data": {
      "text/html": [
       "<div>\n",
       "<style scoped>\n",
       "    .dataframe tbody tr th:only-of-type {\n",
       "        vertical-align: middle;\n",
       "    }\n",
       "\n",
       "    .dataframe tbody tr th {\n",
       "        vertical-align: top;\n",
       "    }\n",
       "\n",
       "    .dataframe thead th {\n",
       "        text-align: right;\n",
       "    }\n",
       "</style>\n",
       "<table border=\"1\" class=\"dataframe\">\n",
       "  <thead>\n",
       "    <tr style=\"text-align: right;\">\n",
       "      <th></th>\n",
       "      <th>amt</th>\n",
       "      <th>gender</th>\n",
       "      <th>zip</th>\n",
       "      <th>city_pop</th>\n",
       "      <th>is_fraud</th>\n",
       "      <th>lat_dist</th>\n",
       "      <th>long_dist</th>\n",
       "    </tr>\n",
       "  </thead>\n",
       "  <tbody>\n",
       "    <tr>\n",
       "      <th>0</th>\n",
       "      <td>4.97</td>\n",
       "      <td>0</td>\n",
       "      <td>28654</td>\n",
       "      <td>3495</td>\n",
       "      <td>0</td>\n",
       "      <td>0.07</td>\n",
       "      <td>0.87</td>\n",
       "    </tr>\n",
       "    <tr>\n",
       "      <th>1</th>\n",
       "      <td>107.23</td>\n",
       "      <td>0</td>\n",
       "      <td>99160</td>\n",
       "      <td>149</td>\n",
       "      <td>0</td>\n",
       "      <td>0.27</td>\n",
       "      <td>0.02</td>\n",
       "    </tr>\n",
       "    <tr>\n",
       "      <th>2</th>\n",
       "      <td>220.11</td>\n",
       "      <td>1</td>\n",
       "      <td>83252</td>\n",
       "      <td>4154</td>\n",
       "      <td>0</td>\n",
       "      <td>0.97</td>\n",
       "      <td>0.11</td>\n",
       "    </tr>\n",
       "    <tr>\n",
       "      <th>3</th>\n",
       "      <td>45.00</td>\n",
       "      <td>1</td>\n",
       "      <td>59632</td>\n",
       "      <td>1939</td>\n",
       "      <td>0</td>\n",
       "      <td>0.80</td>\n",
       "      <td>0.45</td>\n",
       "    </tr>\n",
       "    <tr>\n",
       "      <th>4</th>\n",
       "      <td>41.96</td>\n",
       "      <td>1</td>\n",
       "      <td>24433</td>\n",
       "      <td>99</td>\n",
       "      <td>0</td>\n",
       "      <td>0.25</td>\n",
       "      <td>0.83</td>\n",
       "    </tr>\n",
       "  </tbody>\n",
       "</table>\n",
       "</div>"
      ],
      "text/plain": [
       "      amt  gender    zip  city_pop  is_fraud  lat_dist  long_dist\n",
       "0    4.97       0  28654      3495         0      0.07       0.87\n",
       "1  107.23       0  99160       149         0      0.27       0.02\n",
       "2  220.11       1  83252      4154         0      0.97       0.11\n",
       "3   45.00       1  59632      1939         0      0.80       0.45\n",
       "4   41.96       1  24433        99         0      0.25       0.83"
      ]
     },
     "execution_count": 19,
     "metadata": {},
     "output_type": "execute_result"
    }
   ],
   "source": [
    "train_data.head()"
   ]
  },
  {
   "cell_type": "code",
   "execution_count": 40,
   "id": "f3abe9e7",
   "metadata": {},
   "outputs": [
    {
     "data": {
      "text/html": [
       "<div>\n",
       "<style scoped>\n",
       "    .dataframe tbody tr th:only-of-type {\n",
       "        vertical-align: middle;\n",
       "    }\n",
       "\n",
       "    .dataframe tbody tr th {\n",
       "        vertical-align: top;\n",
       "    }\n",
       "\n",
       "    .dataframe thead th {\n",
       "        text-align: right;\n",
       "    }\n",
       "</style>\n",
       "<table border=\"1\" class=\"dataframe\">\n",
       "  <thead>\n",
       "    <tr style=\"text-align: right;\">\n",
       "      <th></th>\n",
       "      <th>amt</th>\n",
       "      <th>gender</th>\n",
       "      <th>zip</th>\n",
       "      <th>city_pop</th>\n",
       "      <th>is_fraud</th>\n",
       "      <th>lat_dist</th>\n",
       "      <th>long_dist</th>\n",
       "    </tr>\n",
       "  </thead>\n",
       "  <tbody>\n",
       "    <tr>\n",
       "      <th>1296665</th>\n",
       "      <td>72.17</td>\n",
       "      <td>1</td>\n",
       "      <td>49775</td>\n",
       "      <td>95</td>\n",
       "      <td>0</td>\n",
       "      <td>0.82</td>\n",
       "      <td>0.45</td>\n",
       "    </tr>\n",
       "    <tr>\n",
       "      <th>1296666</th>\n",
       "      <td>7.30</td>\n",
       "      <td>0</td>\n",
       "      <td>60958</td>\n",
       "      <td>2135</td>\n",
       "      <td>0</td>\n",
       "      <td>0.51</td>\n",
       "      <td>0.50</td>\n",
       "    </tr>\n",
       "    <tr>\n",
       "      <th>1296667</th>\n",
       "      <td>19.71</td>\n",
       "      <td>1</td>\n",
       "      <td>33844</td>\n",
       "      <td>33804</td>\n",
       "      <td>0</td>\n",
       "      <td>0.61</td>\n",
       "      <td>0.08</td>\n",
       "    </tr>\n",
       "    <tr>\n",
       "      <th>1296668</th>\n",
       "      <td>100.85</td>\n",
       "      <td>0</td>\n",
       "      <td>39073</td>\n",
       "      <td>19685</td>\n",
       "      <td>0</td>\n",
       "      <td>0.78</td>\n",
       "      <td>0.41</td>\n",
       "    </tr>\n",
       "    <tr>\n",
       "      <th>1296669</th>\n",
       "      <td>37.38</td>\n",
       "      <td>0</td>\n",
       "      <td>68859</td>\n",
       "      <td>509</td>\n",
       "      <td>0</td>\n",
       "      <td>0.23</td>\n",
       "      <td>0.25</td>\n",
       "    </tr>\n",
       "    <tr>\n",
       "      <th>1296670</th>\n",
       "      <td>15.56</td>\n",
       "      <td>1</td>\n",
       "      <td>84735</td>\n",
       "      <td>258</td>\n",
       "      <td>0</td>\n",
       "      <td>0.88</td>\n",
       "      <td>0.79</td>\n",
       "    </tr>\n",
       "    <tr>\n",
       "      <th>1296671</th>\n",
       "      <td>51.70</td>\n",
       "      <td>1</td>\n",
       "      <td>21790</td>\n",
       "      <td>100</td>\n",
       "      <td>0</td>\n",
       "      <td>0.36</td>\n",
       "      <td>0.74</td>\n",
       "    </tr>\n",
       "    <tr>\n",
       "      <th>1296672</th>\n",
       "      <td>105.93</td>\n",
       "      <td>1</td>\n",
       "      <td>88325</td>\n",
       "      <td>899</td>\n",
       "      <td>0</td>\n",
       "      <td>0.68</td>\n",
       "      <td>0.69</td>\n",
       "    </tr>\n",
       "    <tr>\n",
       "      <th>1296673</th>\n",
       "      <td>74.90</td>\n",
       "      <td>1</td>\n",
       "      <td>57756</td>\n",
       "      <td>1126</td>\n",
       "      <td>0</td>\n",
       "      <td>0.56</td>\n",
       "      <td>0.70</td>\n",
       "    </tr>\n",
       "    <tr>\n",
       "      <th>1296674</th>\n",
       "      <td>4.30</td>\n",
       "      <td>1</td>\n",
       "      <td>59871</td>\n",
       "      <td>218</td>\n",
       "      <td>0</td>\n",
       "      <td>0.72</td>\n",
       "      <td>0.31</td>\n",
       "    </tr>\n",
       "  </tbody>\n",
       "</table>\n",
       "</div>"
      ],
      "text/plain": [
       "            amt  gender    zip  city_pop  is_fraud  lat_dist  long_dist\n",
       "1296665   72.17       1  49775        95         0      0.82       0.45\n",
       "1296666    7.30       0  60958      2135         0      0.51       0.50\n",
       "1296667   19.71       1  33844     33804         0      0.61       0.08\n",
       "1296668  100.85       0  39073     19685         0      0.78       0.41\n",
       "1296669   37.38       0  68859       509         0      0.23       0.25\n",
       "1296670   15.56       1  84735       258         0      0.88       0.79\n",
       "1296671   51.70       1  21790       100         0      0.36       0.74\n",
       "1296672  105.93       1  88325       899         0      0.68       0.69\n",
       "1296673   74.90       1  57756      1126         0      0.56       0.70\n",
       "1296674    4.30       1  59871       218         0      0.72       0.31"
      ]
     },
     "execution_count": 40,
     "metadata": {},
     "output_type": "execute_result"
    }
   ],
   "source": [
    "train_data.tail(10)"
   ]
  },
  {
   "cell_type": "code",
   "execution_count": 44,
   "id": "9c4fcc33",
   "metadata": {},
   "outputs": [
    {
     "data": {
      "text/html": [
       "<div>\n",
       "<style scoped>\n",
       "    .dataframe tbody tr th:only-of-type {\n",
       "        vertical-align: middle;\n",
       "    }\n",
       "\n",
       "    .dataframe tbody tr th {\n",
       "        vertical-align: top;\n",
       "    }\n",
       "\n",
       "    .dataframe thead th {\n",
       "        text-align: right;\n",
       "    }\n",
       "</style>\n",
       "<table border=\"1\" class=\"dataframe\">\n",
       "  <thead>\n",
       "    <tr style=\"text-align: right;\">\n",
       "      <th></th>\n",
       "      <th>amt</th>\n",
       "      <th>gender</th>\n",
       "      <th>zip</th>\n",
       "      <th>city_pop</th>\n",
       "      <th>is_fraud</th>\n",
       "      <th>lat_dist</th>\n",
       "      <th>long_dist</th>\n",
       "    </tr>\n",
       "  </thead>\n",
       "  <tbody>\n",
       "    <tr>\n",
       "      <th>555714</th>\n",
       "      <td>43.77</td>\n",
       "      <td>1</td>\n",
       "      <td>63453</td>\n",
       "      <td>519</td>\n",
       "      <td>0</td>\n",
       "      <td>0.55</td>\n",
       "      <td>0.56</td>\n",
       "    </tr>\n",
       "    <tr>\n",
       "      <th>555715</th>\n",
       "      <td>111.84</td>\n",
       "      <td>1</td>\n",
       "      <td>77566</td>\n",
       "      <td>28739</td>\n",
       "      <td>0</td>\n",
       "      <td>0.62</td>\n",
       "      <td>0.75</td>\n",
       "    </tr>\n",
       "    <tr>\n",
       "      <th>555716</th>\n",
       "      <td>86.88</td>\n",
       "      <td>0</td>\n",
       "      <td>99323</td>\n",
       "      <td>3684</td>\n",
       "      <td>0</td>\n",
       "      <td>0.46</td>\n",
       "      <td>0.81</td>\n",
       "    </tr>\n",
       "    <tr>\n",
       "      <th>555717</th>\n",
       "      <td>7.99</td>\n",
       "      <td>1</td>\n",
       "      <td>83643</td>\n",
       "      <td>129</td>\n",
       "      <td>0</td>\n",
       "      <td>0.15</td>\n",
       "      <td>0.63</td>\n",
       "    </tr>\n",
       "    <tr>\n",
       "      <th>555718</th>\n",
       "      <td>38.13</td>\n",
       "      <td>1</td>\n",
       "      <td>73034</td>\n",
       "      <td>116001</td>\n",
       "      <td>0</td>\n",
       "      <td>0.54</td>\n",
       "      <td>0.44</td>\n",
       "    </tr>\n",
       "  </tbody>\n",
       "</table>\n",
       "</div>"
      ],
      "text/plain": [
       "           amt  gender    zip  city_pop  is_fraud  lat_dist  long_dist\n",
       "555714   43.77       1  63453       519         0      0.55       0.56\n",
       "555715  111.84       1  77566     28739         0      0.62       0.75\n",
       "555716   86.88       0  99323      3684         0      0.46       0.81\n",
       "555717    7.99       1  83643       129         0      0.15       0.63\n",
       "555718   38.13       1  73034    116001         0      0.54       0.44"
      ]
     },
     "execution_count": 44,
     "metadata": {},
     "output_type": "execute_result"
    }
   ],
   "source": [
    "test_data.tail()"
   ]
  },
  {
   "cell_type": "markdown",
   "id": "bda26e29",
   "metadata": {
    "papermill": {
     "duration": 0.013203,
     "end_time": "2023-09-09T10:54:23.881451",
     "exception": false,
     "start_time": "2023-09-09T10:54:23.868248",
     "status": "completed"
    },
    "tags": []
   },
   "source": [
    "# Splitting Data"
   ]
  },
  {
   "cell_type": "code",
   "execution_count": 20,
   "id": "320fe23f",
   "metadata": {
    "execution": {
     "iopub.execute_input": "2023-09-09T10:54:23.910863Z",
     "iopub.status.busy": "2023-09-09T10:54:23.910480Z",
     "iopub.status.idle": "2023-09-09T10:54:23.947431Z",
     "shell.execute_reply": "2023-09-09T10:54:23.946317Z"
    },
    "papermill": {
     "duration": 0.054703,
     "end_time": "2023-09-09T10:54:23.949552",
     "exception": false,
     "start_time": "2023-09-09T10:54:23.894849",
     "status": "completed"
    },
    "tags": []
   },
   "outputs": [],
   "source": [
    "X_train = train_data.drop('is_fraud',axis=1)\n",
    "X_test = test_data.drop('is_fraud',axis=1)\n",
    "y_train = train_data['is_fraud']\n",
    "y_test = test_data['is_fraud']"
   ]
  },
  {
   "cell_type": "code",
   "execution_count": 21,
   "id": "920c0ff9",
   "metadata": {
    "execution": {
     "iopub.execute_input": "2023-09-09T10:54:23.979600Z",
     "iopub.status.busy": "2023-09-09T10:54:23.979229Z",
     "iopub.status.idle": "2023-09-09T10:54:24.165378Z",
     "shell.execute_reply": "2023-09-09T10:54:24.164272Z"
    },
    "papermill": {
     "duration": 0.204229,
     "end_time": "2023-09-09T10:54:24.168125",
     "exception": false,
     "start_time": "2023-09-09T10:54:23.963896",
     "status": "completed"
    },
    "tags": []
   },
   "outputs": [],
   "source": [
    "from sklearn.preprocessing import StandardScaler\n",
    "scaler = StandardScaler()\n",
    "X_trian = scaler.fit_transform(X_train)\n",
    "X_test = scaler.fit_transform(X_test)"
   ]
  },
  {
   "cell_type": "markdown",
   "id": "a94c5d61",
   "metadata": {
    "papermill": {
     "duration": 0.013449,
     "end_time": "2023-09-09T10:54:24.195768",
     "exception": false,
     "start_time": "2023-09-09T10:54:24.182319",
     "status": "completed"
    },
    "tags": []
   },
   "source": [
    "# Model Building"
   ]
  },
  {
   "cell_type": "markdown",
   "id": "9bb875ab",
   "metadata": {
    "papermill": {
     "duration": 0.013009,
     "end_time": "2023-09-09T10:54:24.222034",
     "exception": false,
     "start_time": "2023-09-09T10:54:24.209025",
     "status": "completed"
    },
    "tags": []
   },
   "source": [
    "****1. Logistic Regression****"
   ]
  },
  {
   "cell_type": "code",
   "execution_count": 22,
   "id": "7a1f0e00",
   "metadata": {
    "execution": {
     "iopub.execute_input": "2023-09-09T10:54:24.252617Z",
     "iopub.status.busy": "2023-09-09T10:54:24.252246Z",
     "iopub.status.idle": "2023-09-09T10:54:33.359729Z",
     "shell.execute_reply": "2023-09-09T10:54:33.358206Z"
    },
    "papermill": {
     "duration": 9.127761,
     "end_time": "2023-09-09T10:54:33.363829",
     "exception": false,
     "start_time": "2023-09-09T10:54:24.236068",
     "status": "completed"
    },
    "tags": []
   },
   "outputs": [],
   "source": [
    "from sklearn.linear_model import LogisticRegression\n",
    "lr = LogisticRegression()\n",
    "lr.fit(X_train,y_train)\n",
    "y_pred = lr.predict(X_test)"
   ]
  },
  {
   "cell_type": "code",
   "execution_count": 23,
   "id": "09771d51",
   "metadata": {
    "execution": {
     "iopub.execute_input": "2023-09-09T10:54:33.425064Z",
     "iopub.status.busy": "2023-09-09T10:54:33.424377Z",
     "iopub.status.idle": "2023-09-09T10:54:33.500231Z",
     "shell.execute_reply": "2023-09-09T10:54:33.499433Z"
    },
    "papermill": {
     "duration": 0.109116,
     "end_time": "2023-09-09T10:54:33.502664",
     "exception": false,
     "start_time": "2023-09-09T10:54:33.393548",
     "status": "completed"
    },
    "tags": []
   },
   "outputs": [
    {
     "name": "stdout",
     "output_type": "stream",
     "text": [
      "Accuracy: 0.86\n"
     ]
    }
   ],
   "source": [
    "from sklearn.metrics import accuracy_score\n",
    "accuracy = accuracy_score(y_test, y_pred)\n",
    "print(f'Accuracy: {accuracy:.2f}')"
   ]
  },
  {
   "cell_type": "code",
   "execution_count": 27,
   "id": "43569060",
   "metadata": {},
   "outputs": [
    {
     "data": {
      "text/plain": [
       "array([0, 0, 0, ..., 0, 0, 0], dtype=int64)"
      ]
     },
     "execution_count": 27,
     "metadata": {},
     "output_type": "execute_result"
    }
   ],
   "source": [
    "y_pred = lr.predict(X_test)\n",
    "y_pred"
   ]
  },
  {
   "cell_type": "markdown",
   "id": "ddcc4cc4",
   "metadata": {
    "papermill": {
     "duration": 0.01354,
     "end_time": "2023-09-09T10:54:33.591740",
     "exception": false,
     "start_time": "2023-09-09T10:54:33.578200",
     "status": "completed"
    },
    "tags": []
   },
   "source": [
    "****2. Decision Tree Classifier****"
   ]
  },
  {
   "cell_type": "code",
   "execution_count": 24,
   "id": "45904f2d",
   "metadata": {
    "execution": {
     "iopub.execute_input": "2023-09-09T10:54:33.622040Z",
     "iopub.status.busy": "2023-09-09T10:54:33.621681Z",
     "iopub.status.idle": "2023-09-09T10:54:45.863256Z",
     "shell.execute_reply": "2023-09-09T10:54:45.862125Z"
    },
    "papermill": {
     "duration": 12.260431,
     "end_time": "2023-09-09T10:54:45.866127",
     "exception": false,
     "start_time": "2023-09-09T10:54:33.605696",
     "status": "completed"
    },
    "tags": []
   },
   "outputs": [],
   "source": [
    "from sklearn.tree import DecisionTreeClassifier\n",
    "dtc = DecisionTreeClassifier(random_state = 45)\n",
    "dtc.fit(X_train,y_train)\n",
    "y_pred = dtc.predict(X_test)"
   ]
  },
  {
   "cell_type": "code",
   "execution_count": 25,
   "id": "8deb5c03",
   "metadata": {
    "execution": {
     "iopub.execute_input": "2023-09-09T10:54:45.896014Z",
     "iopub.status.busy": "2023-09-09T10:54:45.895626Z",
     "iopub.status.idle": "2023-09-09T10:54:45.943115Z",
     "shell.execute_reply": "2023-09-09T10:54:45.942107Z"
    },
    "papermill": {
     "duration": 0.06588,
     "end_time": "2023-09-09T10:54:45.945716",
     "exception": false,
     "start_time": "2023-09-09T10:54:45.879836",
     "status": "completed"
    },
    "tags": []
   },
   "outputs": [
    {
     "name": "stdout",
     "output_type": "stream",
     "text": [
      "Accuracy: 1.00\n"
     ]
    }
   ],
   "source": [
    "accuracy = accuracy_score(y_test, y_pred)\n",
    "print(f'Accuracy: {accuracy:.2f}')"
   ]
  },
  {
   "cell_type": "code",
   "execution_count": 28,
   "id": "b9bd36d5",
   "metadata": {},
   "outputs": [
    {
     "data": {
      "text/plain": [
       "array([0, 0, 0, ..., 0, 0, 0], dtype=int64)"
      ]
     },
     "execution_count": 28,
     "metadata": {},
     "output_type": "execute_result"
    }
   ],
   "source": [
    "y_pred1 = dtc.predict(X_test)\n",
    "y_pred1"
   ]
  },
  {
   "cell_type": "markdown",
   "id": "9acc21a1",
   "metadata": {
    "papermill": {
     "duration": 0.013959,
     "end_time": "2023-09-09T10:54:45.974122",
     "exception": false,
     "start_time": "2023-09-09T10:54:45.960163",
     "status": "completed"
    },
    "tags": []
   },
   "source": [
    "****3. Random Forest Classifier****"
   ]
  },
  {
   "cell_type": "code",
   "execution_count": null,
   "id": "7fba5a57",
   "metadata": {
    "execution": {
     "iopub.execute_input": "2023-09-09T10:54:46.004184Z",
     "iopub.status.busy": "2023-09-09T10:54:46.003489Z",
     "iopub.status.idle": "2023-09-09T11:02:16.642984Z",
     "shell.execute_reply": "2023-09-09T11:02:16.641938Z"
    },
    "papermill": {
     "duration": 450.657762,
     "end_time": "2023-09-09T11:02:16.645981",
     "exception": false,
     "start_time": "2023-09-09T10:54:45.988219",
     "status": "completed"
    },
    "tags": []
   },
   "outputs": [],
   "source": [
    "from sklearn.ensemble import RandomForestClassifier\n",
    "rfc = RandomForestClassifier()\n",
    "rfc.fit(X_train,y_train)\n",
    "y_pred = rfc.predict(X_test)"
   ]
  },
  {
   "cell_type": "code",
   "execution_count": 23,
   "id": "db0ffbde",
   "metadata": {
    "execution": {
     "iopub.execute_input": "2023-09-09T11:02:16.674993Z",
     "iopub.status.busy": "2023-09-09T11:02:16.674362Z",
     "iopub.status.idle": "2023-09-09T11:02:16.718083Z",
     "shell.execute_reply": "2023-09-09T11:02:16.716873Z"
    },
    "papermill": {
     "duration": 0.060589,
     "end_time": "2023-09-09T11:02:16.720365",
     "exception": false,
     "start_time": "2023-09-09T11:02:16.659776",
     "status": "completed"
    },
    "tags": []
   },
   "outputs": [
    {
     "name": "stdout",
     "output_type": "stream",
     "text": [
      "Accuracy: 1.00\n"
     ]
    }
   ],
   "source": [
    "accuracy = accuracy_score(y_test, y_pred)\n",
    "print(f'Accuracy: {accuracy:.2f}')"
   ]
  },
  {
   "cell_type": "markdown",
   "id": "55b29683",
   "metadata": {
    "papermill": {
     "duration": 0.014172,
     "end_time": "2023-09-09T11:02:16.748780",
     "exception": false,
     "start_time": "2023-09-09T11:02:16.734608",
     "status": "completed"
    },
    "tags": []
   },
   "source": [
    "****4. XGBoost****"
   ]
  },
  {
   "cell_type": "code",
   "execution_count": 29,
   "id": "9cfdfd96",
   "metadata": {
    "execution": {
     "iopub.execute_input": "2023-09-09T11:02:16.780372Z",
     "iopub.status.busy": "2023-09-09T11:02:16.779696Z",
     "iopub.status.idle": "2023-09-09T11:02:43.414306Z",
     "shell.execute_reply": "2023-09-09T11:02:43.413453Z"
    },
    "papermill": {
     "duration": 26.653911,
     "end_time": "2023-09-09T11:02:43.416917",
     "exception": false,
     "start_time": "2023-09-09T11:02:16.763006",
     "status": "completed"
    },
    "tags": []
   },
   "outputs": [],
   "source": [
    "import xgboost as xgb\n",
    "xgbclf = xgb.XGBClassifier(learning_rate=0.1,n_estimators=100,max_depth=3,objective='binary:logistic',random_state=45)\n",
    "xgbclf.fit(X_train,y_train)\n",
    "y_pred = xgbclf.predict(X_test)"
   ]
  },
  {
   "cell_type": "code",
   "execution_count": 30,
   "id": "58f7cb48",
   "metadata": {
    "execution": {
     "iopub.execute_input": "2023-09-09T11:02:43.447079Z",
     "iopub.status.busy": "2023-09-09T11:02:43.446729Z",
     "iopub.status.idle": "2023-09-09T11:02:43.490920Z",
     "shell.execute_reply": "2023-09-09T11:02:43.489715Z"
    },
    "papermill": {
     "duration": 0.061294,
     "end_time": "2023-09-09T11:02:43.493290",
     "exception": false,
     "start_time": "2023-09-09T11:02:43.431996",
     "status": "completed"
    },
    "tags": []
   },
   "outputs": [
    {
     "name": "stdout",
     "output_type": "stream",
     "text": [
      "Accuracy: 1.00\n"
     ]
    }
   ],
   "source": [
    "accuracy = accuracy_score(y_test, y_pred)\n",
    "print(f'Accuracy: {accuracy:.2f}')"
   ]
  },
  {
   "cell_type": "code",
   "execution_count": 31,
   "id": "3c9d6dc9",
   "metadata": {},
   "outputs": [
    {
     "data": {
      "text/plain": [
       "array([0, 0, 0, ..., 0, 0, 0])"
      ]
     },
     "execution_count": 31,
     "metadata": {},
     "output_type": "execute_result"
    }
   ],
   "source": [
    "y_pred2 = xgbclf.predict(X_test)\n",
    "y_pred2"
   ]
  },
  {
   "cell_type": "code",
   "execution_count": 32,
   "id": "7735ec38",
   "metadata": {},
   "outputs": [],
   "source": [
    "import joblib"
   ]
  },
  {
   "cell_type": "code",
   "execution_count": 33,
   "id": "474a3518",
   "metadata": {},
   "outputs": [
    {
     "data": {
      "text/plain": [
       "['Credit_model']"
      ]
     },
     "execution_count": 33,
     "metadata": {},
     "output_type": "execute_result"
    }
   ],
   "source": [
    "joblib.dump(dtc,'Credit_model')"
   ]
  },
  {
   "cell_type": "code",
   "execution_count": 34,
   "metadata": {},
   "outputs": [],
   "source": [
    "model= joblib.load('Credit_model')"
   ]
  },
  {
   "cell_type": "code",
   "execution_count": 36,
   "id": "4129d774",
   "metadata": {},
   "outputs": [],
   "source": [
    "prediction = model.predict([[4.97\t,0,\t28654,\t3495,0.07\t,0.87]])"
   ]
  },
  {
   "cell_type": "code",
   "execution_count": 37,
   "id": "65f93923",
   "metadata": {},
   "outputs": [
    {
     "name": "stdout",
     "output_type": "stream",
     "text": [
      "Normal Transcation\n"
     ]
    }
   ],
   "source": [
    "if prediction == 0:\n",
    "    print(\"Normal Transcation\")\n",
    "else:\n",
    "    print(\"Fraudulent Transcation\")"
   ]
  }
 ],
 "kernelspec": {
  "display_name": "Python 3",
  "language": "python",
  "name": "python3"
 },
 "language_info": {
  "codemirror_mode": {
   "name": "ipython",
   "version": 3
  },
  "file_extension": ".py",
  "mimetype": "text/x-python",
  "name": "python",
  "nbconvert_exporter": "python",
  "pygments_lexer": "ipython3",
  "version": "3.6.4"
 },
 "metadata": {
  "kernelspec": {
   "display_name": "Python 3",
   "language": "python",
   "name": "python3"
  },
  "language_info": {
   "codemirror_mode": {
    "name": "ipython",
    "version": 3
   },
   "file_extension": ".py",
   "mimetype": "text/x-python",
   "name": "python",
   "nbconvert_exporter": "python",
   "pygments_lexer": "ipython3",
   "version": "3.11.0"
  },
  "papermill": {
   "default_parameters": {},
   "duration": 532.910266,
   "end_time": "2023-09-09T11:02:44.330147",
   "environment_variables": {},
   "exception": null,
   "input_path": "__notebook__.ipynb",
   "output_path": "__notebook__.ipynb",
   "parameters": {},
   "start_time": "2023-09-09T10:53:51.419881",
   "version": "2.4.0"
  }
 },
 "nbformat": 4,
 "nbformat_minor": 5
}
